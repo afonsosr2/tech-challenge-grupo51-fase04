{
  "cells": [
    {
      "cell_type": "code",
      "execution_count": 2,
      "metadata": {
        "id": "_cHPllSqAosx"
      },
      "outputs": [],
      "source": [
        "import requests\n",
        "import pandas as pd\n",
        "from datetime import datetime\n",
        "from bs4 import BeautifulSoup"
      ]
    },
    {
      "cell_type": "code",
      "execution_count": 3,
      "metadata": {
        "id": "gif8_uqKF7eH"
      },
      "outputs": [],
      "source": [
        "def update_dataframe(df,new_data):\n",
        "\n",
        "   # Converte coluna data para para datetime\n",
        "   df['Data'] = pd.to_datetime(df['Data'],dayfirst=True)\n",
        "   new_data['Data'] = pd.to_datetime(new_data['Data'],dayfirst = True)\n",
        "\n",
        "   # Encontra a data mais recente no Dataframe existente\n",
        "   last_date = df['Data'].max()\n",
        "\n",
        "   # Filtra as novas linhas que são mais recentes do que a última data\n",
        "   new_rows = new_data[new_data['Data'] > last_date]\n",
        "\n",
        "   # Concatena os novos dados com o dataframe existente se houver novas linhas\n",
        "\n",
        "   if  not new_rows.empty:\n",
        "       updated_df = pd.concat([df,new_rows],ignore_index = True)\n",
        "   else:\n",
        "       updated_df = df\n",
        "\n",
        "   return updated_df\n",
        "\n",
        "\n",
        "\n",
        "\n",
        "\n",
        "\n",
        "url = 'http://www.ipeadata.gov.br/ExibeSerie.aspx?module=m&serid=1650971490&oper=view'  # URL do site do ipea\n",
        "\n",
        "# Faz uma requisição get  ao site e captura  a resposta\n",
        "\n",
        "response = requests.get(url)\n",
        "\n",
        "# Verifica se a requisição foi bem sucedida\n",
        "if  response.status_code ==200:\n",
        "\t# Cria um objetoBEautifulSoup para analisar o HTML\n",
        "  soup = BeautifulSoup(response.text,'html.parser')\n",
        "\n",
        "\t# Procura pela tabela HTML analisando o id ou classe pode variar\n",
        "\t# Você precisaria inspecionar o HTML para obter o selector correto\n",
        "  table = soup.find('table',{'id':'grd_DXMainTable'})\n",
        "\n",
        "\t# Usa o pandas para ler a tabela HTML diretamente para um dataframe\n",
        "  new_df = pd.read_html(str(table),header=0)[0]\n",
        "\n",
        "  # verifca se o dataframe existe carrega,ou cria um novo Dataframe se não existir\n",
        "  path ='dados\\ipea.csv'\n",
        "  try:\n",
        "      existing_df = pd.read_csv(path)\n",
        "  except FileNotFoundError:\n",
        "      existing_df = new_df\n",
        "\n",
        "   # Atualiza o df existente com novos dados (carga icremental)\n",
        "  updated_df = update_dataframe(existing_df,new_df)\n",
        "\n",
        "  # FOB - Preço de venda da mercadoria, acrescido de todas as despesas do exportador até sua colocação no mercado.\n",
        "  updated_df['Preço - petróleo bruto - Brent (FOB)'] = updated_df['Preço - petróleo bruto - Brent (FOB)']/100\n",
        "\n",
        "\n",
        "  # Salva o DataFrame atualizado para o arquivo\n",
        "  updated_df.to_csv(path,index=False)\n",
        "\n",
        "\n",
        "\t#Mostra as primeiras linhas do DataFrame\n",
        "  updated_df.head()\n",
        "else:\n",
        "  print('Falha ao acessar  a página : Status code', response.status_code)"
      ]
    },
    {
      "cell_type": "code",
      "execution_count": 4,
      "metadata": {
        "colab": {
          "base_uri": "https://localhost:8080/",
          "height": 206
        },
        "id": "5mgJ23XDG_3B",
        "outputId": "62154f21-71e5-410d-e658-c8860812da8b"
      },
      "outputs": [
        {
          "data": {
            "text/html": [
              "<div>\n",
              "<style scoped>\n",
              "    .dataframe tbody tr th:only-of-type {\n",
              "        vertical-align: middle;\n",
              "    }\n",
              "\n",
              "    .dataframe tbody tr th {\n",
              "        vertical-align: top;\n",
              "    }\n",
              "\n",
              "    .dataframe thead th {\n",
              "        text-align: right;\n",
              "    }\n",
              "</style>\n",
              "<table border=\"1\" class=\"dataframe\">\n",
              "  <thead>\n",
              "    <tr style=\"text-align: right;\">\n",
              "      <th></th>\n",
              "      <th>Data</th>\n",
              "      <th>Preço - petróleo bruto - Brent (FOB)</th>\n",
              "    </tr>\n",
              "  </thead>\n",
              "  <tbody>\n",
              "    <tr>\n",
              "      <th>0</th>\n",
              "      <td>2024-01-16</td>\n",
              "      <td>0.8015</td>\n",
              "    </tr>\n",
              "    <tr>\n",
              "      <th>1</th>\n",
              "      <td>2024-01-15</td>\n",
              "      <td>0.7976</td>\n",
              "    </tr>\n",
              "    <tr>\n",
              "      <th>2</th>\n",
              "      <td>2024-01-12</td>\n",
              "      <td>0.7989</td>\n",
              "    </tr>\n",
              "    <tr>\n",
              "      <th>3</th>\n",
              "      <td>2024-01-11</td>\n",
              "      <td>0.8021</td>\n",
              "    </tr>\n",
              "    <tr>\n",
              "      <th>4</th>\n",
              "      <td>2024-01-10</td>\n",
              "      <td>0.7846</td>\n",
              "    </tr>\n",
              "  </tbody>\n",
              "</table>\n",
              "</div>"
            ],
            "text/plain": [
              "        Data  Preço - petróleo bruto - Brent (FOB)\n",
              "0 2024-01-16                                0.8015\n",
              "1 2024-01-15                                0.7976\n",
              "2 2024-01-12                                0.7989\n",
              "3 2024-01-11                                0.8021\n",
              "4 2024-01-10                                0.7846"
            ]
          },
          "execution_count": 4,
          "metadata": {},
          "output_type": "execute_result"
        }
      ],
      "source": [
        "updated_df.head(5)"
      ]
    },
    {
      "cell_type": "code",
      "execution_count": null,
      "metadata": {
        "id": "8YC4AbNIUjl_"
      },
      "outputs": [],
      "source": []
    }
  ],
  "metadata": {
    "colab": {
      "provenance": []
    },
    "kernelspec": {
      "display_name": "Python 3",
      "name": "python3"
    },
    "language_info": {
      "codemirror_mode": {
        "name": "ipython",
        "version": 3
      },
      "file_extension": ".py",
      "mimetype": "text/x-python",
      "name": "python",
      "nbconvert_exporter": "python",
      "pygments_lexer": "ipython3",
      "version": "3.7.7"
    }
  },
  "nbformat": 4,
  "nbformat_minor": 0
}
