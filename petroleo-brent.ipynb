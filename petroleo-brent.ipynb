{
  "cells": [
    {
      "cell_type": "markdown",
      "metadata": {},
      "source": [
        "## Extraindo os dados do Petróleo Brent do IPEA (webscraping)"
      ]
    },
    {
      "cell_type": "code",
      "execution_count": 60,
      "metadata": {
        "id": "_cHPllSqAosx"
      },
      "outputs": [],
      "source": [
        "def atualizando_dados_ipea():\n",
        "    import requests\n",
        "    import pandas as pd\n",
        "    from bs4 import BeautifulSoup\n",
        "\n",
        "    # Função para atualizar DataFrame com novas datas\n",
        "    def update_dataframe(df, new_data):\n",
        "\n",
        "        # Converte coluna data para para datetime\n",
        "        df['Data'] = pd.to_datetime(df['Data'], dayfirst=True)\n",
        "        new_data['Data'] = pd.to_datetime(new_data['Data'], dayfirst = True)\n",
        "\n",
        "        # Encontra a data mais recente no Dataframe existente\n",
        "        last_date = df['Data'].max()\n",
        "\n",
        "        # Filtra as novas linhas que são mais recentes do que a última data\n",
        "        new_rows = new_data[new_data['Data'] > last_date]\n",
        "\n",
        "        # Concatena os novos dados com o dataframe existente se houver novas linhas\n",
        "        if  not new_rows.empty:\n",
        "            updated_df = pd.concat([df,new_rows],ignore_index = True)\n",
        "        else:\n",
        "            updated_df = df\n",
        "\n",
        "        return updated_df\n",
        "\n",
        "    # Base de dados (URL do IPEA)\n",
        "    url = 'http://www.ipeadata.gov.br/ExibeSerie.aspx?module=m&serid=1650971490&oper=view'\n",
        "\n",
        "    # Faz uma requisição get no site e captura a resposta\n",
        "    response = requests.get(url)\n",
        "\n",
        "    # Verifica se a requisição foi bem sucedida\n",
        "    if  response.status_code ==200:\n",
        "        # Cria um objeto BeautifulSoup para analisar o HTML\n",
        "        soup = BeautifulSoup(response.text,'html.parser')\n",
        "\n",
        "        # Procura pela tabela HTML analisando o id ou classe pode variar\n",
        "        # Você precisaria inspecionar o HTML para obter o selector correto\n",
        "        table = soup.find('table',{'id':'grd_DXMainTable'})\n",
        "\n",
        "        # Usa o pandas para ler a tabela HTML diretamente para um dataframe\n",
        "        new_df = pd.read_html(str(table),header=0)[0]\n",
        "\n",
        "        # FOB - Preço de venda da mercadoria, acrescido de todas as despesas do exportador até sua colocação no mercado.\n",
        "        new_df['Preço - petróleo bruto - Brent (FOB)'] = new_df['Preço - petróleo bruto - Brent (FOB)'] / 100\n",
        "\n",
        "        # verifca se o dataframe existe: carrega, ou cria um novo Dataframe se não existir\n",
        "        path ='dados\\ipea.csv'\n",
        "        try:\n",
        "            existing_df = pd.read_csv(path)\n",
        "        except FileNotFoundError:\n",
        "            existing_df = new_df\n",
        "\n",
        "        # Atualiza o df existente com novos dados (carga incremental)\n",
        "        updated_df = update_dataframe(existing_df, new_df)\n",
        "        updated_df = updated_df.sort_values(by=\"Data\", ascending=True).reset_index(drop=True)\n",
        "\n",
        "        # Salva o DataFrame atualizado para o arquivo\n",
        "        updated_df.to_csv(path,index=False)\n",
        "    else:\n",
        "        print('Falha ao acessar  a página : Status code', response.status_code)\n",
        "    return path"
      ]
    }
  ],
  "metadata": {
    "colab": {
      "provenance": []
    },
    "kernelspec": {
      "display_name": "Python 3",
      "name": "python3"
    },
    "language_info": {
      "codemirror_mode": {
        "name": "ipython",
        "version": 3
      },
      "file_extension": ".py",
      "mimetype": "text/x-python",
      "name": "python",
      "nbconvert_exporter": "python",
      "pygments_lexer": "ipython3",
      "version": "3.7.7"
    }
  },
  "nbformat": 4,
  "nbformat_minor": 0
}
